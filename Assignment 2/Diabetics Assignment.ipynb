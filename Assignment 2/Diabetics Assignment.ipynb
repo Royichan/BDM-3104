{
 "cells": [
  {
   "cell_type": "code",
   "execution_count": 40,
   "id": "833481ee",
   "metadata": {},
   "outputs": [],
   "source": [
    "import pandas as pd\n",
    "import numpy as np\n",
    "import matplotlib.pyplot as plt\n",
    "import seaborn as sns\n",
    "from sklearn.model_selection import train_test_split\n",
    "from sklearn.linear_model import LogisticRegression\n",
    "from sklearn.metrics import accuracy_score,confusion_matrix,classification_report,precision_score,recall_score,f1_score,roc_auc_score,roc_curve\n",
    "from sklearn.preprocessing import StandardScaler"
   ]
  },
  {
   "cell_type": "code",
   "execution_count": 41,
   "id": "98e71580",
   "metadata": {},
   "outputs": [],
   "source": [
    "\n",
    "sugar=pd.read_csv('diabetes2.csv')"
   ]
  },
  {
   "cell_type": "code",
   "execution_count": 42,
   "id": "bf27d519",
   "metadata": {},
   "outputs": [
    {
     "data": {
      "text/html": [
       "<div>\n",
       "<style scoped>\n",
       "    .dataframe tbody tr th:only-of-type {\n",
       "        vertical-align: middle;\n",
       "    }\n",
       "\n",
       "    .dataframe tbody tr th {\n",
       "        vertical-align: top;\n",
       "    }\n",
       "\n",
       "    .dataframe thead th {\n",
       "        text-align: right;\n",
       "    }\n",
       "</style>\n",
       "<table border=\"1\" class=\"dataframe\">\n",
       "  <thead>\n",
       "    <tr style=\"text-align: right;\">\n",
       "      <th></th>\n",
       "      <th>Pregnancies</th>\n",
       "      <th>Glucose</th>\n",
       "      <th>BloodPressure</th>\n",
       "      <th>SkinThickness</th>\n",
       "      <th>Insulin</th>\n",
       "      <th>BMI</th>\n",
       "      <th>DiabetesPedigreeFunction</th>\n",
       "      <th>Age</th>\n",
       "      <th>Outcome</th>\n",
       "    </tr>\n",
       "  </thead>\n",
       "  <tbody>\n",
       "    <tr>\n",
       "      <th>0</th>\n",
       "      <td>6</td>\n",
       "      <td>148</td>\n",
       "      <td>72</td>\n",
       "      <td>35</td>\n",
       "      <td>0</td>\n",
       "      <td>33.6</td>\n",
       "      <td>0.627</td>\n",
       "      <td>50</td>\n",
       "      <td>1</td>\n",
       "    </tr>\n",
       "    <tr>\n",
       "      <th>1</th>\n",
       "      <td>1</td>\n",
       "      <td>85</td>\n",
       "      <td>66</td>\n",
       "      <td>29</td>\n",
       "      <td>0</td>\n",
       "      <td>26.6</td>\n",
       "      <td>0.351</td>\n",
       "      <td>31</td>\n",
       "      <td>0</td>\n",
       "    </tr>\n",
       "    <tr>\n",
       "      <th>2</th>\n",
       "      <td>8</td>\n",
       "      <td>183</td>\n",
       "      <td>64</td>\n",
       "      <td>0</td>\n",
       "      <td>0</td>\n",
       "      <td>23.3</td>\n",
       "      <td>0.672</td>\n",
       "      <td>32</td>\n",
       "      <td>1</td>\n",
       "    </tr>\n",
       "    <tr>\n",
       "      <th>3</th>\n",
       "      <td>1</td>\n",
       "      <td>89</td>\n",
       "      <td>66</td>\n",
       "      <td>23</td>\n",
       "      <td>94</td>\n",
       "      <td>28.1</td>\n",
       "      <td>0.167</td>\n",
       "      <td>21</td>\n",
       "      <td>0</td>\n",
       "    </tr>\n",
       "    <tr>\n",
       "      <th>4</th>\n",
       "      <td>0</td>\n",
       "      <td>137</td>\n",
       "      <td>40</td>\n",
       "      <td>35</td>\n",
       "      <td>168</td>\n",
       "      <td>43.1</td>\n",
       "      <td>2.288</td>\n",
       "      <td>33</td>\n",
       "      <td>1</td>\n",
       "    </tr>\n",
       "  </tbody>\n",
       "</table>\n",
       "</div>"
      ],
      "text/plain": [
       "   Pregnancies  Glucose  BloodPressure  SkinThickness  Insulin   BMI  \\\n",
       "0            6      148             72             35        0  33.6   \n",
       "1            1       85             66             29        0  26.6   \n",
       "2            8      183             64              0        0  23.3   \n",
       "3            1       89             66             23       94  28.1   \n",
       "4            0      137             40             35      168  43.1   \n",
       "\n",
       "   DiabetesPedigreeFunction  Age  Outcome  \n",
       "0                     0.627   50        1  \n",
       "1                     0.351   31        0  \n",
       "2                     0.672   32        1  \n",
       "3                     0.167   21        0  \n",
       "4                     2.288   33        1  "
      ]
     },
     "execution_count": 42,
     "metadata": {},
     "output_type": "execute_result"
    }
   ],
   "source": [
    "sugar.head()"
   ]
  },
  {
   "cell_type": "code",
   "execution_count": 43,
   "id": "96605304",
   "metadata": {},
   "outputs": [],
   "source": [
    "#pregensy can be zero but not insulin or other features"
   ]
  },
  {
   "cell_type": "code",
   "execution_count": 44,
   "id": "45444605",
   "metadata": {},
   "outputs": [
    {
     "data": {
      "text/plain": [
       "Index(['Pregnancies', 'Glucose', 'BloodPressure', 'SkinThickness', 'Insulin',\n",
       "       'BMI', 'DiabetesPedigreeFunction', 'Age', 'Outcome'],\n",
       "      dtype='object')"
      ]
     },
     "execution_count": 44,
     "metadata": {},
     "output_type": "execute_result"
    }
   ],
   "source": [
    "sugar.keys()"
   ]
  },
  {
   "cell_type": "code",
   "execution_count": 45,
   "id": "2e2db631",
   "metadata": {},
   "outputs": [
    {
     "data": {
      "text/html": [
       "<div>\n",
       "<style scoped>\n",
       "    .dataframe tbody tr th:only-of-type {\n",
       "        vertical-align: middle;\n",
       "    }\n",
       "\n",
       "    .dataframe tbody tr th {\n",
       "        vertical-align: top;\n",
       "    }\n",
       "\n",
       "    .dataframe thead th {\n",
       "        text-align: right;\n",
       "    }\n",
       "</style>\n",
       "<table border=\"1\" class=\"dataframe\">\n",
       "  <thead>\n",
       "    <tr style=\"text-align: right;\">\n",
       "      <th></th>\n",
       "      <th>Pregnancies</th>\n",
       "      <th>Glucose</th>\n",
       "      <th>BloodPressure</th>\n",
       "      <th>SkinThickness</th>\n",
       "      <th>Insulin</th>\n",
       "      <th>BMI</th>\n",
       "      <th>DiabetesPedigreeFunction</th>\n",
       "      <th>Age</th>\n",
       "      <th>Outcome</th>\n",
       "    </tr>\n",
       "  </thead>\n",
       "  <tbody>\n",
       "    <tr>\n",
       "      <th>count</th>\n",
       "      <td>768.000000</td>\n",
       "      <td>768.000000</td>\n",
       "      <td>768.000000</td>\n",
       "      <td>768.000000</td>\n",
       "      <td>768.000000</td>\n",
       "      <td>768.000000</td>\n",
       "      <td>768.000000</td>\n",
       "      <td>768.000000</td>\n",
       "      <td>768.000000</td>\n",
       "    </tr>\n",
       "    <tr>\n",
       "      <th>mean</th>\n",
       "      <td>3.845052</td>\n",
       "      <td>120.894531</td>\n",
       "      <td>69.105469</td>\n",
       "      <td>20.536458</td>\n",
       "      <td>79.799479</td>\n",
       "      <td>31.992578</td>\n",
       "      <td>0.471876</td>\n",
       "      <td>33.240885</td>\n",
       "      <td>0.348958</td>\n",
       "    </tr>\n",
       "    <tr>\n",
       "      <th>std</th>\n",
       "      <td>3.369578</td>\n",
       "      <td>31.972618</td>\n",
       "      <td>19.355807</td>\n",
       "      <td>15.952218</td>\n",
       "      <td>115.244002</td>\n",
       "      <td>7.884160</td>\n",
       "      <td>0.331329</td>\n",
       "      <td>11.760232</td>\n",
       "      <td>0.476951</td>\n",
       "    </tr>\n",
       "    <tr>\n",
       "      <th>min</th>\n",
       "      <td>0.000000</td>\n",
       "      <td>0.000000</td>\n",
       "      <td>0.000000</td>\n",
       "      <td>0.000000</td>\n",
       "      <td>0.000000</td>\n",
       "      <td>0.000000</td>\n",
       "      <td>0.078000</td>\n",
       "      <td>21.000000</td>\n",
       "      <td>0.000000</td>\n",
       "    </tr>\n",
       "    <tr>\n",
       "      <th>25%</th>\n",
       "      <td>1.000000</td>\n",
       "      <td>99.000000</td>\n",
       "      <td>62.000000</td>\n",
       "      <td>0.000000</td>\n",
       "      <td>0.000000</td>\n",
       "      <td>27.300000</td>\n",
       "      <td>0.243750</td>\n",
       "      <td>24.000000</td>\n",
       "      <td>0.000000</td>\n",
       "    </tr>\n",
       "    <tr>\n",
       "      <th>50%</th>\n",
       "      <td>3.000000</td>\n",
       "      <td>117.000000</td>\n",
       "      <td>72.000000</td>\n",
       "      <td>23.000000</td>\n",
       "      <td>30.500000</td>\n",
       "      <td>32.000000</td>\n",
       "      <td>0.372500</td>\n",
       "      <td>29.000000</td>\n",
       "      <td>0.000000</td>\n",
       "    </tr>\n",
       "    <tr>\n",
       "      <th>75%</th>\n",
       "      <td>6.000000</td>\n",
       "      <td>140.250000</td>\n",
       "      <td>80.000000</td>\n",
       "      <td>32.000000</td>\n",
       "      <td>127.250000</td>\n",
       "      <td>36.600000</td>\n",
       "      <td>0.626250</td>\n",
       "      <td>41.000000</td>\n",
       "      <td>1.000000</td>\n",
       "    </tr>\n",
       "    <tr>\n",
       "      <th>max</th>\n",
       "      <td>17.000000</td>\n",
       "      <td>199.000000</td>\n",
       "      <td>122.000000</td>\n",
       "      <td>99.000000</td>\n",
       "      <td>846.000000</td>\n",
       "      <td>67.100000</td>\n",
       "      <td>2.420000</td>\n",
       "      <td>81.000000</td>\n",
       "      <td>1.000000</td>\n",
       "    </tr>\n",
       "  </tbody>\n",
       "</table>\n",
       "</div>"
      ],
      "text/plain": [
       "       Pregnancies     Glucose  BloodPressure  SkinThickness     Insulin  \\\n",
       "count   768.000000  768.000000     768.000000     768.000000  768.000000   \n",
       "mean      3.845052  120.894531      69.105469      20.536458   79.799479   \n",
       "std       3.369578   31.972618      19.355807      15.952218  115.244002   \n",
       "min       0.000000    0.000000       0.000000       0.000000    0.000000   \n",
       "25%       1.000000   99.000000      62.000000       0.000000    0.000000   \n",
       "50%       3.000000  117.000000      72.000000      23.000000   30.500000   \n",
       "75%       6.000000  140.250000      80.000000      32.000000  127.250000   \n",
       "max      17.000000  199.000000     122.000000      99.000000  846.000000   \n",
       "\n",
       "              BMI  DiabetesPedigreeFunction         Age     Outcome  \n",
       "count  768.000000                768.000000  768.000000  768.000000  \n",
       "mean    31.992578                  0.471876   33.240885    0.348958  \n",
       "std      7.884160                  0.331329   11.760232    0.476951  \n",
       "min      0.000000                  0.078000   21.000000    0.000000  \n",
       "25%     27.300000                  0.243750   24.000000    0.000000  \n",
       "50%     32.000000                  0.372500   29.000000    0.000000  \n",
       "75%     36.600000                  0.626250   41.000000    1.000000  \n",
       "max     67.100000                  2.420000   81.000000    1.000000  "
      ]
     },
     "execution_count": 45,
     "metadata": {},
     "output_type": "execute_result"
    }
   ],
   "source": [
    "sugar.describe()"
   ]
  },
  {
   "cell_type": "code",
   "execution_count": 46,
   "id": "e3f14e74",
   "metadata": {},
   "outputs": [
    {
     "data": {
      "text/plain": [
       "120.89453125"
      ]
     },
     "execution_count": 46,
     "metadata": {},
     "output_type": "execute_result"
    }
   ],
   "source": [
    "#Numerical column we use mean or medium for value replacement in data cleaning.But in categorical data like men , women, can use mode\n",
    "#column in normal distributed then mean, left skwed or right skwed then median\n",
    "#Using histogram check column is normal distributed or not.\n",
    "#Left skwed means long left line\n",
    "\n",
    "sugar['Glucose'].mean()"
   ]
  },
  {
   "cell_type": "code",
   "execution_count": 47,
   "id": "7a6bfa1a",
   "metadata": {},
   "outputs": [
    {
     "data": {
      "text/plain": [
       "117.0"
      ]
     },
     "execution_count": 47,
     "metadata": {},
     "output_type": "execute_result"
    }
   ],
   "source": [
    "sugar['Glucose'].median()"
   ]
  },
  {
   "cell_type": "code",
   "execution_count": null,
   "id": "31b7db63",
   "metadata": {},
   "outputs": [],
   "source": []
  },
  {
   "cell_type": "code",
   "execution_count": null,
   "id": "b4e662a1",
   "metadata": {},
   "outputs": [],
   "source": [
    "\n"
   ]
  },
  {
   "cell_type": "code",
   "execution_count": 48,
   "id": "ab920be9",
   "metadata": {},
   "outputs": [],
   "source": [
    "#Replace 0 values accept pregnency with mean\n",
    "sugar['Glucose']=sugar['Glucose'].replace(0,sugar['Glucose'].mean())\n",
    "sugar['BMI']=sugar['BMI'].replace(0,sugar['BMI'].mean())\n",
    "sugar['BloodPressure']=sugar['BloodPressure'].replace(0,sugar['BloodPressure'].mean())\n",
    "sugar['SkinThickness']=sugar['SkinThickness'].replace(0,sugar['SkinThickness'].mean())\n",
    "sugar['Insulin']=sugar['Insulin'].replace(0,sugar['Insulin'].mean())"
   ]
  },
  {
   "cell_type": "code",
   "execution_count": 49,
   "id": "c9b9965c",
   "metadata": {},
   "outputs": [
    {
     "data": {
      "text/html": [
       "<div>\n",
       "<style scoped>\n",
       "    .dataframe tbody tr th:only-of-type {\n",
       "        vertical-align: middle;\n",
       "    }\n",
       "\n",
       "    .dataframe tbody tr th {\n",
       "        vertical-align: top;\n",
       "    }\n",
       "\n",
       "    .dataframe thead th {\n",
       "        text-align: right;\n",
       "    }\n",
       "</style>\n",
       "<table border=\"1\" class=\"dataframe\">\n",
       "  <thead>\n",
       "    <tr style=\"text-align: right;\">\n",
       "      <th></th>\n",
       "      <th>Pregnancies</th>\n",
       "      <th>Glucose</th>\n",
       "      <th>BloodPressure</th>\n",
       "      <th>SkinThickness</th>\n",
       "      <th>Insulin</th>\n",
       "      <th>BMI</th>\n",
       "      <th>DiabetesPedigreeFunction</th>\n",
       "      <th>Age</th>\n",
       "      <th>Outcome</th>\n",
       "    </tr>\n",
       "  </thead>\n",
       "  <tbody>\n",
       "    <tr>\n",
       "      <th>count</th>\n",
       "      <td>768.000000</td>\n",
       "      <td>768.000000</td>\n",
       "      <td>768.000000</td>\n",
       "      <td>768.000000</td>\n",
       "      <td>768.000000</td>\n",
       "      <td>768.000000</td>\n",
       "      <td>768.000000</td>\n",
       "      <td>768.000000</td>\n",
       "      <td>768.000000</td>\n",
       "    </tr>\n",
       "    <tr>\n",
       "      <th>mean</th>\n",
       "      <td>3.845052</td>\n",
       "      <td>121.681605</td>\n",
       "      <td>72.254807</td>\n",
       "      <td>26.606479</td>\n",
       "      <td>118.660163</td>\n",
       "      <td>32.450805</td>\n",
       "      <td>0.471876</td>\n",
       "      <td>33.240885</td>\n",
       "      <td>0.348958</td>\n",
       "    </tr>\n",
       "    <tr>\n",
       "      <th>std</th>\n",
       "      <td>3.369578</td>\n",
       "      <td>30.436016</td>\n",
       "      <td>12.115932</td>\n",
       "      <td>9.631241</td>\n",
       "      <td>93.080358</td>\n",
       "      <td>6.875374</td>\n",
       "      <td>0.331329</td>\n",
       "      <td>11.760232</td>\n",
       "      <td>0.476951</td>\n",
       "    </tr>\n",
       "    <tr>\n",
       "      <th>min</th>\n",
       "      <td>0.000000</td>\n",
       "      <td>44.000000</td>\n",
       "      <td>24.000000</td>\n",
       "      <td>7.000000</td>\n",
       "      <td>14.000000</td>\n",
       "      <td>18.200000</td>\n",
       "      <td>0.078000</td>\n",
       "      <td>21.000000</td>\n",
       "      <td>0.000000</td>\n",
       "    </tr>\n",
       "    <tr>\n",
       "      <th>25%</th>\n",
       "      <td>1.000000</td>\n",
       "      <td>99.750000</td>\n",
       "      <td>64.000000</td>\n",
       "      <td>20.536458</td>\n",
       "      <td>79.799479</td>\n",
       "      <td>27.500000</td>\n",
       "      <td>0.243750</td>\n",
       "      <td>24.000000</td>\n",
       "      <td>0.000000</td>\n",
       "    </tr>\n",
       "    <tr>\n",
       "      <th>50%</th>\n",
       "      <td>3.000000</td>\n",
       "      <td>117.000000</td>\n",
       "      <td>72.000000</td>\n",
       "      <td>23.000000</td>\n",
       "      <td>79.799479</td>\n",
       "      <td>32.000000</td>\n",
       "      <td>0.372500</td>\n",
       "      <td>29.000000</td>\n",
       "      <td>0.000000</td>\n",
       "    </tr>\n",
       "    <tr>\n",
       "      <th>75%</th>\n",
       "      <td>6.000000</td>\n",
       "      <td>140.250000</td>\n",
       "      <td>80.000000</td>\n",
       "      <td>32.000000</td>\n",
       "      <td>127.250000</td>\n",
       "      <td>36.600000</td>\n",
       "      <td>0.626250</td>\n",
       "      <td>41.000000</td>\n",
       "      <td>1.000000</td>\n",
       "    </tr>\n",
       "    <tr>\n",
       "      <th>max</th>\n",
       "      <td>17.000000</td>\n",
       "      <td>199.000000</td>\n",
       "      <td>122.000000</td>\n",
       "      <td>99.000000</td>\n",
       "      <td>846.000000</td>\n",
       "      <td>67.100000</td>\n",
       "      <td>2.420000</td>\n",
       "      <td>81.000000</td>\n",
       "      <td>1.000000</td>\n",
       "    </tr>\n",
       "  </tbody>\n",
       "</table>\n",
       "</div>"
      ],
      "text/plain": [
       "       Pregnancies     Glucose  BloodPressure  SkinThickness     Insulin  \\\n",
       "count   768.000000  768.000000     768.000000     768.000000  768.000000   \n",
       "mean      3.845052  121.681605      72.254807      26.606479  118.660163   \n",
       "std       3.369578   30.436016      12.115932       9.631241   93.080358   \n",
       "min       0.000000   44.000000      24.000000       7.000000   14.000000   \n",
       "25%       1.000000   99.750000      64.000000      20.536458   79.799479   \n",
       "50%       3.000000  117.000000      72.000000      23.000000   79.799479   \n",
       "75%       6.000000  140.250000      80.000000      32.000000  127.250000   \n",
       "max      17.000000  199.000000     122.000000      99.000000  846.000000   \n",
       "\n",
       "              BMI  DiabetesPedigreeFunction         Age     Outcome  \n",
       "count  768.000000                768.000000  768.000000  768.000000  \n",
       "mean    32.450805                  0.471876   33.240885    0.348958  \n",
       "std      6.875374                  0.331329   11.760232    0.476951  \n",
       "min     18.200000                  0.078000   21.000000    0.000000  \n",
       "25%     27.500000                  0.243750   24.000000    0.000000  \n",
       "50%     32.000000                  0.372500   29.000000    0.000000  \n",
       "75%     36.600000                  0.626250   41.000000    1.000000  \n",
       "max     67.100000                  2.420000   81.000000    1.000000  "
      ]
     },
     "execution_count": 49,
     "metadata": {},
     "output_type": "execute_result"
    }
   ],
   "source": [
    "sugar.describe()"
   ]
  },
  {
   "cell_type": "code",
   "execution_count": 50,
   "id": "000bf61c",
   "metadata": {},
   "outputs": [
    {
     "data": {
      "text/plain": [
       "Outcome\n",
       "0    500\n",
       "1    268\n",
       "Name: count, dtype: int64"
      ]
     },
     "execution_count": 50,
     "metadata": {},
     "output_type": "execute_result"
    }
   ],
   "source": [
    "#Check how many diabetics and non diabetics\n",
    "sugar['Outcome'].value_counts()"
   ]
  },
  {
   "cell_type": "code",
   "execution_count": 51,
   "id": "6ab05243",
   "metadata": {},
   "outputs": [],
   "source": [
    "#This data set is imbalance or biased to 0. We can use technique SMOTE Synthetic Minority Over-sampling Technique"
   ]
  },
  {
   "cell_type": "code",
   "execution_count": 52,
   "id": "1a9be697",
   "metadata": {},
   "outputs": [
    {
     "data": {
      "image/png": "[encoded data removed]",
      "text/plain": [
       "<Figure size 1500x1000 with 1 Axes>"
      ]
     },
     "metadata": {},
     "output_type": "display_data"
    }
   ],
   "source": [
    "# Correct the typo in figsize\n",
    "fig, ax = plt.subplots(figsize=(15, 10))\n",
    "sns.boxplot(data=sugar, ax=ax)\n",
    "plt.show()"
   ]
  },
  {
   "cell_type": "code",
   "execution_count": 53,
   "id": "8996ad69",
   "metadata": {},
   "outputs": [],
   "source": [
    "x=sugar.drop(columns=['Outcome'])\n",
    "y=sugar['Outcome']"
   ]
  },
  {
   "cell_type": "code",
   "execution_count": 54,
   "id": "25b25d08",
   "metadata": {},
   "outputs": [],
   "source": [
    "from sklearn.model_selection import train_test_split\n",
    "x_train, x_test, y_train, y_test = train_test_split(x, y, test_size=0.2, random_state=42)"
   ]
  },
  {
   "cell_type": "code",
   "execution_count": 55,
   "id": "4d96a09f",
   "metadata": {},
   "outputs": [],
   "source": [
    "#Scaling needed because all column have different scale\n",
    "from sklearn.preprocessing import StandardScaler\n",
    "scale = StandardScaler()\n"
   ]
  },
  {
   "cell_type": "code",
   "execution_count": null,
   "id": "ab1a9916",
   "metadata": {},
   "outputs": [],
   "source": []
  },
  {
   "cell_type": "code",
   "execution_count": 56,
   "id": "ac648792",
   "metadata": {},
   "outputs": [],
   "source": [
    "x_tr=scale.fit_transform(x_train)\n",
    "x_ts=scale.fit_transform(x_test)"
   ]
  },
  {
   "cell_type": "code",
   "execution_count": 57,
   "id": "8d7e4189",
   "metadata": {},
   "outputs": [
    {
     "data": {
      "text/html": [
       "<style>#sk-container-id-2 {color: black;}#sk-container-id-2 pre{padding: 0;}#sk-container-id-2 div.sk-toggleable {background-color: white;}#sk-container-id-2 label.sk-toggleable__label {cursor: pointer;display: block;width: 100%;margin-bottom: 0;padding: 0.3em;box-sizing: border-box;text-align: center;}#sk-container-id-2 label.sk-toggleable__label-arrow:before {content: \"▸\";float: left;margin-right: 0.25em;color: #696969;}#sk-container-id-2 label.sk-toggleable__label-arrow:hover:before {color: black;}#sk-container-id-2 div.sk-estimator:hover label.sk-toggleable__label-arrow:before {color: black;}#sk-container-id-2 div.sk-toggleable__content {max-height: 0;max-width: 0;overflow: hidden;text-align: left;background-color: #f0f8ff;}#sk-container-id-2 div.sk-toggleable__content pre {margin: 0.2em;color: black;border-radius: 0.25em;background-color: #f0f8ff;}#sk-container-id-2 input.sk-toggleable__control:checked~div.sk-toggleable__content {max-height: 200px;max-width: 100%;overflow: auto;}#sk-container-id-2 input.sk-toggleable__control:checked~label.sk-toggleable__label-arrow:before {content: \"▾\";}#sk-container-id-2 div.sk-estimator input.sk-toggleable__control:checked~label.sk-toggleable__label {background-color: #d4ebff;}#sk-container-id-2 div.sk-label input.sk-toggleable__control:checked~label.sk-toggleable__label {background-color: #d4ebff;}#sk-container-id-2 input.sk-hidden--visually {border: 0;clip: rect(1px 1px 1px 1px);clip: rect(1px, 1px, 1px, 1px);height: 1px;margin: -1px;overflow: hidden;padding: 0;position: absolute;width: 1px;}#sk-container-id-2 div.sk-estimator {font-family: monospace;background-color: #f0f8ff;border: 1px dotted black;border-radius: 0.25em;box-sizing: border-box;margin-bottom: 0.5em;}#sk-container-id-2 div.sk-estimator:hover {background-color: #d4ebff;}#sk-container-id-2 div.sk-parallel-item::after {content: \"\";width: 100%;border-bottom: 1px solid gray;flex-grow: 1;}#sk-container-id-2 div.sk-label:hover label.sk-toggleable__label {background-color: #d4ebff;}#sk-container-id-2 div.sk-serial::before {content: \"\";position: absolute;border-left: 1px solid gray;box-sizing: border-box;top: 0;bottom: 0;left: 50%;z-index: 0;}#sk-container-id-2 div.sk-serial {display: flex;flex-direction: column;align-items: center;background-color: white;padding-right: 0.2em;padding-left: 0.2em;position: relative;}#sk-container-id-2 div.sk-item {position: relative;z-index: 1;}#sk-container-id-2 div.sk-parallel {display: flex;align-items: stretch;justify-content: center;background-color: white;position: relative;}#sk-container-id-2 div.sk-item::before, #sk-container-id-2 div.sk-parallel-item::before {content: \"\";position: absolute;border-left: 1px solid gray;box-sizing: border-box;top: 0;bottom: 0;left: 50%;z-index: -1;}#sk-container-id-2 div.sk-parallel-item {display: flex;flex-direction: column;z-index: 1;position: relative;background-color: white;}#sk-container-id-2 div.sk-parallel-item:first-child::after {align-self: flex-end;width: 50%;}#sk-container-id-2 div.sk-parallel-item:last-child::after {align-self: flex-start;width: 50%;}#sk-container-id-2 div.sk-parallel-item:only-child::after {width: 0;}#sk-container-id-2 div.sk-dashed-wrapped {border: 1px dashed gray;margin: 0 0.4em 0.5em 0.4em;box-sizing: border-box;padding-bottom: 0.4em;background-color: white;}#sk-container-id-2 div.sk-label label {font-family: monospace;font-weight: bold;display: inline-block;line-height: 1.2em;}#sk-container-id-2 div.sk-label-container {text-align: center;}#sk-container-id-2 div.sk-container {/* jupyter's `normalize.less` sets `[hidden] { display: none; }` but bootstrap.min.css set `[hidden] { display: none !important; }` so we also need the `!important` here to be able to override the default hidden behavior on the sphinx rendered scikit-learn.org. See: https://github.com/scikit-learn/scikit-learn/issues/21755 */display: inline-block !important;position: relative;}#sk-container-id-2 div.sk-text-repr-fallback {display: none;}</style><div id=\"sk-container-id-2\" class=\"sk-top-container\"><div class=\"sk-text-repr-fallback\"><pre>LogisticRegression()</pre><b>In a Jupyter environment, please rerun this cell to show the HTML representation or trust the notebook. <br />On GitHub, the HTML representation is unable to render, please try loading this page with nbviewer.org.</b></div><div class=\"sk-container\" hidden><div class=\"sk-item\"><div class=\"sk-estimator sk-toggleable\"><input class=\"sk-toggleable__control sk-hidden--visually\" id=\"sk-estimator-id-2\" type=\"checkbox\" checked><label for=\"sk-estimator-id-2\" class=\"sk-toggleable__label sk-toggleable__label-arrow\">LogisticRegression</label><div class=\"sk-toggleable__content\"><pre>LogisticRegression()</pre></div></div></div></div></div>"
      ],
      "text/plain": [
       "LogisticRegression()"
      ]
     },
     "execution_count": 57,
     "metadata": {},
     "output_type": "execute_result"
    }
   ],
   "source": [
    "clf1 = LogisticRegression()\n",
    "clf1.fit(x_tr,y_train)"
   ]
  },
  {
   "cell_type": "code",
   "execution_count": 58,
   "id": "9025bd16",
   "metadata": {},
   "outputs": [
    {
     "data": {
      "text/plain": [
       "array([0, 0, 0, 0, 0, 0, 0, 0, 1, 1, 0, 1, 0, 0, 0, 0, 0, 0, 1, 1, 0, 0,\n",
       "       0, 0, 1, 1, 0, 0, 0, 0, 1, 1, 1, 1, 1, 1, 1, 0, 0, 1, 0, 1, 0, 0,\n",
       "       0, 0, 1, 0, 0, 1, 0, 1, 1, 0, 0, 0, 1, 0, 0, 1, 1, 0, 0, 0, 0, 1,\n",
       "       0, 1, 0, 1, 1, 0, 0, 0, 0, 0, 0, 0, 0, 0, 1, 0, 0, 0, 0, 1, 1, 0,\n",
       "       0, 0, 0, 0, 0, 0, 1, 1, 0, 0, 1, 0, 1, 0, 1, 0, 1, 0, 0, 1, 0, 0,\n",
       "       0, 0, 0, 1, 0, 0, 1, 0, 0, 0, 0, 0, 0, 0, 0, 0, 0, 1, 1, 1, 1, 1,\n",
       "       0, 0, 1, 0, 0, 1, 1, 0, 0, 0, 0, 0, 0, 0, 0, 0, 0, 1, 0, 0, 0, 0],\n",
       "      dtype=int64)"
      ]
     },
     "execution_count": 58,
     "metadata": {},
     "output_type": "execute_result"
    }
   ],
   "source": [
    "y_pred=clf1.predict(x_ts)\n",
    "y_pred"
   ]
  },
  {
   "cell_type": "code",
   "execution_count": 59,
   "id": "cce18737",
   "metadata": {},
   "outputs": [
    {
     "data": {
      "text/plain": [
       "array([[0.76389005, 0.23610995],\n",
       "       [0.83457028, 0.16542972],\n",
       "       [0.89651979, 0.10348021],\n",
       "       [0.86346907, 0.13653093],\n",
       "       [0.59337723, 0.40662277],\n",
       "       [0.61859519, 0.38140481],\n",
       "       [0.98677452, 0.01322548],\n",
       "       [0.6123945 , 0.3876055 ],\n",
       "       [0.48117693, 0.51882307],\n",
       "       [0.27969574, 0.72030426],\n",
       "       [0.80429241, 0.19570759],\n",
       "       [0.13617559, 0.86382441],\n",
       "       [0.69154126, 0.30845874],\n",
       "       [0.71967263, 0.28032737],\n",
       "       [0.92104832, 0.07895168],\n",
       "       [0.63090248, 0.36909752],\n",
       "       [0.88513158, 0.11486842],\n",
       "       [0.93145929, 0.06854071],\n",
       "       [0.31169911, 0.68830089],\n",
       "       [0.41998752, 0.58001248],\n",
       "       [0.83727318, 0.16272682],\n",
       "       [0.92963858, 0.07036142],\n",
       "       [0.55092808, 0.44907192],\n",
       "       [0.90867971, 0.09132029],\n",
       "       [0.48856136, 0.51143864],\n",
       "       [0.13412718, 0.86587282],\n",
       "       [0.90297917, 0.09702083],\n",
       "       [0.9739762 , 0.0260238 ],\n",
       "       [0.74551068, 0.25448932],\n",
       "       [0.89780675, 0.10219325],\n",
       "       [0.07677113, 0.92322887],\n",
       "       [0.16131165, 0.83868835],\n",
       "       [0.24239117, 0.75760883],\n",
       "       [0.34283164, 0.65716836],\n",
       "       [0.42538279, 0.57461721],\n",
       "       [0.32704135, 0.67295865],\n",
       "       [0.04648599, 0.95351401],\n",
       "       [0.797844  , 0.202156  ],\n",
       "       [0.60000991, 0.39999009],\n",
       "       [0.48397617, 0.51602383],\n",
       "       [0.93765922, 0.06234078],\n",
       "       [0.48517254, 0.51482746],\n",
       "       [0.50687801, 0.49312199],\n",
       "       [0.71951882, 0.28048118],\n",
       "       [0.97881479, 0.02118521],\n",
       "       [0.50994855, 0.49005145],\n",
       "       [0.41143641, 0.58856359],\n",
       "       [0.80699848, 0.19300152],\n",
       "       [0.71738206, 0.28261794],\n",
       "       [0.04653458, 0.95346542],\n",
       "       [0.96172237, 0.03827763],\n",
       "       [0.38844344, 0.61155656],\n",
       "       [0.2332743 , 0.7667257 ],\n",
       "       [0.76935316, 0.23064684],\n",
       "       [0.9144795 , 0.0855205 ],\n",
       "       [0.96227833, 0.03772167],\n",
       "       [0.27963774, 0.72036226],\n",
       "       [0.95196599, 0.04803401],\n",
       "       [0.5786365 , 0.4213635 ],\n",
       "       [0.27017414, 0.72982586],\n",
       "       [0.31270685, 0.68729315],\n",
       "       [0.6817017 , 0.3182983 ],\n",
       "       [0.85922639, 0.14077361],\n",
       "       [0.83031727, 0.16968273],\n",
       "       [0.92654242, 0.07345758],\n",
       "       [0.39518309, 0.60481691],\n",
       "       [0.9603256 , 0.0396744 ],\n",
       "       [0.27290074, 0.72709926],\n",
       "       [0.97028299, 0.02971701],\n",
       "       [0.30200024, 0.69799976],\n",
       "       [0.36527454, 0.63472546],\n",
       "       [0.94691796, 0.05308204],\n",
       "       [0.87341966, 0.12658034],\n",
       "       [0.88616397, 0.11383603],\n",
       "       [0.92567845, 0.07432155],\n",
       "       [0.58395928, 0.41604072],\n",
       "       [0.8783456 , 0.1216544 ],\n",
       "       [0.88510708, 0.11489292],\n",
       "       [0.87522553, 0.12477447],\n",
       "       [0.78553692, 0.21446308],\n",
       "       [0.37515253, 0.62484747],\n",
       "       [0.85633384, 0.14366616],\n",
       "       [0.9465477 , 0.0534523 ],\n",
       "       [0.62719784, 0.37280216],\n",
       "       [0.73472467, 0.26527533],\n",
       "       [0.16481241, 0.83518759],\n",
       "       [0.10656212, 0.89343788],\n",
       "       [0.71100643, 0.28899357],\n",
       "       [0.9043668 , 0.0956332 ],\n",
       "       [0.91890556, 0.08109444],\n",
       "       [0.93842941, 0.06157059],\n",
       "       [0.77912604, 0.22087396],\n",
       "       [0.96481306, 0.03518694],\n",
       "       [0.72571404, 0.27428596],\n",
       "       [0.47928582, 0.52071418],\n",
       "       [0.37272033, 0.62727967],\n",
       "       [0.68501542, 0.31498458],\n",
       "       [0.87420709, 0.12579291],\n",
       "       [0.39528391, 0.60471609],\n",
       "       [0.93655565, 0.06344435],\n",
       "       [0.30516648, 0.69483352],\n",
       "       [0.93816168, 0.06183832],\n",
       "       [0.24190478, 0.75809522],\n",
       "       [0.50440815, 0.49559185],\n",
       "       [0.3704501 , 0.6295499 ],\n",
       "       [0.79331726, 0.20668274],\n",
       "       [0.75422157, 0.24577843],\n",
       "       [0.2658786 , 0.7341214 ],\n",
       "       [0.87672724, 0.12327276],\n",
       "       [0.52625069, 0.47374931],\n",
       "       [0.91877016, 0.08122984],\n",
       "       [0.69928278, 0.30071722],\n",
       "       [0.84531322, 0.15468678],\n",
       "       [0.29368528, 0.70631472],\n",
       "       [0.83294385, 0.16705615],\n",
       "       [0.6866012 , 0.3133988 ],\n",
       "       [0.2403248 , 0.7596752 ],\n",
       "       [0.80311145, 0.19688855],\n",
       "       [0.94469167, 0.05530833],\n",
       "       [0.67979609, 0.32020391],\n",
       "       [0.94994776, 0.05005224],\n",
       "       [0.70631444, 0.29368556],\n",
       "       [0.80400314, 0.19599686],\n",
       "       [0.92652351, 0.07347649],\n",
       "       [0.75312744, 0.24687256],\n",
       "       [0.66877926, 0.33122074],\n",
       "       [0.73109902, 0.26890098],\n",
       "       [0.14272911, 0.85727089],\n",
       "       [0.07273198, 0.92726802],\n",
       "       [0.30668064, 0.69331936],\n",
       "       [0.32287576, 0.67712424],\n",
       "       [0.15829274, 0.84170726],\n",
       "       [0.91857129, 0.08142871],\n",
       "       [0.62772791, 0.37227209],\n",
       "       [0.17493987, 0.82506013],\n",
       "       [0.9068465 , 0.0931535 ],\n",
       "       [0.86173784, 0.13826216],\n",
       "       [0.15976319, 0.84023681],\n",
       "       [0.2244036 , 0.7755964 ],\n",
       "       [0.9887362 , 0.0112638 ],\n",
       "       [0.92334178, 0.07665822],\n",
       "       [0.96776706, 0.03223294],\n",
       "       [0.82242889, 0.17757111],\n",
       "       [0.63832534, 0.36167466],\n",
       "       [0.88757699, 0.11242301],\n",
       "       [0.76225473, 0.23774527],\n",
       "       [0.88584974, 0.11415026],\n",
       "       [0.98344245, 0.01655755],\n",
       "       [0.62842992, 0.37157008],\n",
       "       [0.29102192, 0.70897808],\n",
       "       [0.88329829, 0.11670171],\n",
       "       [0.5865605 , 0.4134395 ],\n",
       "       [0.80346638, 0.19653362],\n",
       "       [0.82435422, 0.17564578]])"
      ]
     },
     "execution_count": 59,
     "metadata": {},
     "output_type": "execute_result"
    }
   ],
   "source": [
    "#First value no and second value shows yes\n",
    "clf1.predict_proba(x_ts)"
   ]
  },
  {
   "cell_type": "code",
   "execution_count": 60,
   "id": "35f55877",
   "metadata": {},
   "outputs": [
    {
     "name": "stdout",
     "output_type": "stream",
     "text": [
      "confusion_matrix [[85 14]\n",
      " [21 34]]\n",
      "accuracy_score 0.7727272727272727\n",
      "precision_score 0.7083333333333334\n",
      "recall_score 0.6181818181818182\n",
      "f1_score 0.6601941747572815\n",
      "ROC AUC Score: 0.7383838383838384\n"
     ]
    }
   ],
   "source": [
    "print('confusion_matrix',confusion_matrix(y_test,y_pred))\n",
    "print('accuracy_score',accuracy_score(y_test,y_pred))\n",
    "print('precision_score',precision_score(y_test,y_pred))\n",
    "print('recall_score',recall_score(y_test,y_pred))\n",
    "print('f1_score',f1_score(y_test,y_pred))\n",
    "roc_auc = roc_auc_score(y_test, y_pred)\n",
    "print(\"ROC AUC Score:\", roc_auc)\n"
   ]
  },
  {
   "cell_type": "code",
   "execution_count": 69,
   "id": "217b3350",
   "metadata": {},
   "outputs": [],
   "source": [
    "#value\n",
    "\n",
    "# Accurcay:- An accuracy of 0.77 indicates that around 77% of the predictions made by the model is correct.\n",
    "# Precision:- A precision of 0.70 indicates that around 70% of the samples predicted as positive by the model are positive.\n",
    "# Recall:- A recall of 0.61 indicates that, Tthe model accurately identifies roughly 61% of the real positive samples in the dataset\n",
    "#F1:- An F1 Score of 0.660 indicates that how successfully the model reaches a balance in between between precision and recall.\n",
    "# ROC AUC Curve:-  The model has an appropriate level of discriminative power to discern between positive and negative classes ie,as indicated by its ROC AUC score of 0.738."
   ]
  },
  {
   "cell_type": "code",
   "execution_count": 70,
   "id": "973e49e9",
   "metadata": {},
   "outputs": [
    {
     "data": {
      "image/png": "[encoded data removed]",
      "text/plain": [
       "<Figure size 640x480 with 1 Axes>"
      ]
     },
     "metadata": {},
     "output_type": "display_data"
    }
   ],
   "source": [
    "# Plot ROC curve\n",
    "y_prob = clf1.predict_proba(x_ts)[:,1]\n",
    "fpr, tpr, thresholds = roc_curve(y_test, y_prob)\n",
    "plt.plot(fpr, tpr)\n",
    "plt.plot([0, 1], [0, 1], linestyle='--')\n",
    "plt.xlabel('False Positive Rate')\n",
    "plt.ylabel('True Positive Rate')\n",
    "plt.title('ROC Curve')\n",
    "plt.show()"
   ]
  },
  {
   "cell_type": "code",
   "execution_count": 71,
   "id": "eb26bcb3",
   "metadata": {},
   "outputs": [
    {
     "name": "stdout",
     "output_type": "stream",
     "text": [
      "Intercept: [-0.87387862]\n",
      "Coefficients: [[ 0.22192395  1.12487346 -0.16824905  0.01648627 -0.18588227  0.7313578\n",
      "   0.21171528  0.39300256]]\n"
     ]
    }
   ],
   "source": [
    "coefficients = clf1.coef_\n",
    "intercept = clf1.intercept_\n",
    "\n",
    "print(\"Intercept:\", intercept)\n",
    "print(\"Coefficients:\", coefficients)\n"
   ]
  },
  {
   "cell_type": "markdown",
   "id": "f915df86",
   "metadata": {},
   "source": [
    "#### Intercept (-0.87387862): When all independent variables are zero, the predicted value of the dependent variable is approximately -0.87.\n",
    "1st Coefficient ,Pregnecies(0.22192395): A one-unit increase in the first independent variable results in an increase of approximately 0.22 units in the dependent variable, assuming all other variables are held constant. ie, Pregnecies .\n",
    "Glucose: A one-unit increase in glucose level is associated with a 1.125 increase in the diabetes and so on.\n"
   ]
  },
  {
   "cell_type": "code",
   "execution_count": 72,
   "id": "5bded9c8",
   "metadata": {},
   "outputs": [],
   "source": [
    "# Dump the logistic regression model to a pickle file\n",
    "import pickle\n",
    "    \n",
    "with open('logistic_regression_model.pkl', 'wb') as myfile:\n",
    "    pickle.dump((scale, clf1), myfile)    "
   ]
  },
  {
   "cell_type": "code",
   "execution_count": 73,
   "id": "7a5b0602",
   "metadata": {},
   "outputs": [],
   "source": [
    "# making the data availbel in pickle file\n",
    "with open('y_test.pkl', 'wb') as myfile:\n",
    "    pickle.dump(y_test, myfile)"
   ]
  },
  {
   "cell_type": "code",
   "execution_count": null,
   "id": "fa3b5c44",
   "metadata": {},
   "outputs": [],
   "source": []
  }
 ],
 "metadata": {
  "kernelspec": {
   "display_name": "Python 3 (ipykernel)",
   "language": "python",
   "name": "python3"
  },
  "language_info": {
   "codemirror_mode": {
    "name": "ipython",
    "version": 3
   },
   "file_extension": ".py",
   "mimetype": "text/x-python",
   "name": "python",
   "nbconvert_exporter": "python",
   "pygments_lexer": "ipython3",
   "version": "3.11.5"
  }
 },
 "nbformat": 4,
 "nbformat_minor": 5
}
