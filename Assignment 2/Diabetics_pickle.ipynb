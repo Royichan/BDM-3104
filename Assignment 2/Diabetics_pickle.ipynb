{
 "cells": [
  {
   "cell_type": "code",
   "execution_count": 124,
   "id": "4cc2098b",
   "metadata": {},
   "outputs": [],
   "source": [
    "import numpy as np\n",
    "import pickle\n",
    "from sklearn.preprocessing import StandardScaler\n",
    "import pandas as pd\n",
    "from sklearn.metrics import accuracy_score, confusion_matrix, precision_score, recall_score, f1_score, roc_auc_score, roc_curve"
   ]
  },
  {
   "cell_type": "code",
   "execution_count": 125,
   "id": "19844790",
   "metadata": {},
   "outputs": [],
   "source": [
    "# Load the pickled file object\n",
    "with open('logistic_regression_model.pkl', 'rb') as linear_file:\n",
    "    scaler, clf1 = pickle.load(linear_file)"
   ]
  },
  {
   "cell_type": "code",
   "execution_count": 126,
   "id": "314964a7",
   "metadata": {},
   "outputs": [],
   "source": [
    "#Creating unknow data to test\n",
    "unknown_data = {\n",
    "    \n",
    "    'Pregnancies': np.random.randint(1, 20, size=154),\n",
    "    'Glucose': np.random.randint(44, 198, size=154),\n",
    "    'BloodPressure': np.random.randint(24, 122, size=154),\n",
    "    'SkinThickness': np.random.randint(7, 99, size=154),\n",
    "    'Insulin': np.random.randint(18, 846, size=154),\n",
    "    'BMI': np.random.randint(18, 68, size=154),\n",
    "    'DiabetesPedigreeFunction': np.random.randint(0.078, 2.42, size=154),\n",
    "    'Age': np.random.randint(21, 81, size=154)\n",
    "    }\n"
   ]
  },
  {
   "cell_type": "code",
   "execution_count": 127,
   "id": "6f273c51",
   "metadata": {},
   "outputs": [
    {
     "data": {
      "text/html": [
       "<div>\n",
       "<style scoped>\n",
       "    .dataframe tbody tr th:only-of-type {\n",
       "        vertical-align: middle;\n",
       "    }\n",
       "\n",
       "    .dataframe tbody tr th {\n",
       "        vertical-align: top;\n",
       "    }\n",
       "\n",
       "    .dataframe thead th {\n",
       "        text-align: right;\n",
       "    }\n",
       "</style>\n",
       "<table border=\"1\" class=\"dataframe\">\n",
       "  <thead>\n",
       "    <tr style=\"text-align: right;\">\n",
       "      <th></th>\n",
       "      <th>Pregnancies</th>\n",
       "      <th>Glucose</th>\n",
       "      <th>BloodPressure</th>\n",
       "      <th>SkinThickness</th>\n",
       "      <th>Insulin</th>\n",
       "      <th>BMI</th>\n",
       "      <th>DiabetesPedigreeFunction</th>\n",
       "      <th>Age</th>\n",
       "    </tr>\n",
       "  </thead>\n",
       "  <tbody>\n",
       "    <tr>\n",
       "      <th>count</th>\n",
       "      <td>154.000000</td>\n",
       "      <td>154.000000</td>\n",
       "      <td>154.000000</td>\n",
       "      <td>154.000000</td>\n",
       "      <td>154.000000</td>\n",
       "      <td>154.000000</td>\n",
       "      <td>154.000000</td>\n",
       "      <td>154.000000</td>\n",
       "    </tr>\n",
       "    <tr>\n",
       "      <th>mean</th>\n",
       "      <td>9.727273</td>\n",
       "      <td>119.811688</td>\n",
       "      <td>72.389610</td>\n",
       "      <td>53.090909</td>\n",
       "      <td>422.766234</td>\n",
       "      <td>41.305195</td>\n",
       "      <td>0.577922</td>\n",
       "      <td>50.753247</td>\n",
       "    </tr>\n",
       "    <tr>\n",
       "      <th>std</th>\n",
       "      <td>5.535710</td>\n",
       "      <td>41.278232</td>\n",
       "      <td>27.469606</td>\n",
       "      <td>26.666756</td>\n",
       "      <td>231.487342</td>\n",
       "      <td>15.283092</td>\n",
       "      <td>0.495502</td>\n",
       "      <td>17.080858</td>\n",
       "    </tr>\n",
       "    <tr>\n",
       "      <th>min</th>\n",
       "      <td>1.000000</td>\n",
       "      <td>45.000000</td>\n",
       "      <td>24.000000</td>\n",
       "      <td>7.000000</td>\n",
       "      <td>23.000000</td>\n",
       "      <td>18.000000</td>\n",
       "      <td>0.000000</td>\n",
       "      <td>21.000000</td>\n",
       "    </tr>\n",
       "    <tr>\n",
       "      <th>25%</th>\n",
       "      <td>5.000000</td>\n",
       "      <td>85.250000</td>\n",
       "      <td>49.250000</td>\n",
       "      <td>28.250000</td>\n",
       "      <td>224.000000</td>\n",
       "      <td>28.250000</td>\n",
       "      <td>0.000000</td>\n",
       "      <td>36.000000</td>\n",
       "    </tr>\n",
       "    <tr>\n",
       "      <th>50%</th>\n",
       "      <td>10.000000</td>\n",
       "      <td>121.000000</td>\n",
       "      <td>74.000000</td>\n",
       "      <td>53.000000</td>\n",
       "      <td>429.500000</td>\n",
       "      <td>40.500000</td>\n",
       "      <td>1.000000</td>\n",
       "      <td>50.500000</td>\n",
       "    </tr>\n",
       "    <tr>\n",
       "      <th>75%</th>\n",
       "      <td>15.000000</td>\n",
       "      <td>153.750000</td>\n",
       "      <td>93.000000</td>\n",
       "      <td>75.750000</td>\n",
       "      <td>626.250000</td>\n",
       "      <td>54.750000</td>\n",
       "      <td>1.000000</td>\n",
       "      <td>63.750000</td>\n",
       "    </tr>\n",
       "    <tr>\n",
       "      <th>max</th>\n",
       "      <td>19.000000</td>\n",
       "      <td>195.000000</td>\n",
       "      <td>121.000000</td>\n",
       "      <td>96.000000</td>\n",
       "      <td>832.000000</td>\n",
       "      <td>67.000000</td>\n",
       "      <td>1.000000</td>\n",
       "      <td>80.000000</td>\n",
       "    </tr>\n",
       "  </tbody>\n",
       "</table>\n",
       "</div>"
      ],
      "text/plain": [
       "       Pregnancies     Glucose  BloodPressure  SkinThickness     Insulin  \\\n",
       "count   154.000000  154.000000     154.000000     154.000000  154.000000   \n",
       "mean      9.727273  119.811688      72.389610      53.090909  422.766234   \n",
       "std       5.535710   41.278232      27.469606      26.666756  231.487342   \n",
       "min       1.000000   45.000000      24.000000       7.000000   23.000000   \n",
       "25%       5.000000   85.250000      49.250000      28.250000  224.000000   \n",
       "50%      10.000000  121.000000      74.000000      53.000000  429.500000   \n",
       "75%      15.000000  153.750000      93.000000      75.750000  626.250000   \n",
       "max      19.000000  195.000000     121.000000      96.000000  832.000000   \n",
       "\n",
       "              BMI  DiabetesPedigreeFunction         Age  \n",
       "count  154.000000                154.000000  154.000000  \n",
       "mean    41.305195                  0.577922   50.753247  \n",
       "std     15.283092                  0.495502   17.080858  \n",
       "min     18.000000                  0.000000   21.000000  \n",
       "25%     28.250000                  0.000000   36.000000  \n",
       "50%     40.500000                  1.000000   50.500000  \n",
       "75%     54.750000                  1.000000   63.750000  \n",
       "max     67.000000                  1.000000   80.000000  "
      ]
     },
     "execution_count": 127,
     "metadata": {},
     "output_type": "execute_result"
    }
   ],
   "source": [
    "#converting the dictionary into dataframe using pandas object\n",
    "new_data = pd.DataFrame(unknown_data)\n",
    "new_data.describe()"
   ]
  },
  {
   "cell_type": "code",
   "execution_count": 128,
   "id": "3a14177f",
   "metadata": {},
   "outputs": [],
   "source": [
    "# scaling new data\n",
    "new_scaled_data = scaler.transform(new_data)\n",
    "\n",
    "# Generate predictions using the existing logistic regression model\n",
    "prediction = clf1.predict(new_scaled_data)"
   ]
  },
  {
   "cell_type": "code",
   "execution_count": 129,
   "id": "619b993e",
   "metadata": {},
   "outputs": [],
   "source": [
    "#opening the dumped pickle file\n",
    "with open('y_test.pkl', 'rb') as myfile:\n",
    "    y_test = pickle.load(myfile)"
   ]
  },
  {
   "cell_type": "code",
   "execution_count": 130,
   "id": "c285dac1",
   "metadata": {},
   "outputs": [
    {
     "name": "stdout",
     "output_type": "stream",
     "text": [
      "Accuracy: 0.5\n",
      "Precision: 0.37209302325581395\n",
      "Recall: 0.5818181818181818\n",
      "F1 Score: 0.45390070921985815\n",
      "ROC AUC Score: 0.5181818181818182\n"
     ]
    }
   ],
   "source": [
    "# Model evaluation\n",
    "accuracy = accuracy_score(y_test, prediction)\n",
    "precision = precision_score(y_test, prediction)\n",
    "recall = recall_score(y_test, prediction)\n",
    "f1 = f1_score(y_test, prediction)\n",
    "roc_auc = roc_auc_score(y_test, prediction)\n",
    "\n",
    "print(\"Accuracy:\", accuracy)\n",
    "print(\"Precision:\", precision)\n",
    "print(\"Recall:\", recall)\n",
    "print(\"F1 Score:\", f1)\n",
    "print(\"ROC AUC Score:\", roc_auc)"
   ]
  },
  {
   "cell_type": "code",
   "execution_count": null,
   "id": "d21ce540",
   "metadata": {},
   "outputs": [],
   "source": []
  },
  {
   "cell_type": "code",
   "execution_count": null,
   "id": "b3008549",
   "metadata": {},
   "outputs": [],
   "source": []
  },
  {
   "cell_type": "code",
   "execution_count": null,
   "id": "386f721e",
   "metadata": {},
   "outputs": [],
   "source": []
  }
 ],
 "metadata": {
  "kernelspec": {
   "display_name": "Python 3 (ipykernel)",
   "language": "python",
   "name": "python3"
  },
  "language_info": {
   "codemirror_mode": {
    "name": "ipython",
    "version": 3
   },
   "file_extension": ".py",
   "mimetype": "text/x-python",
   "name": "python",
   "nbconvert_exporter": "python",
   "pygments_lexer": "ipython3",
   "version": "3.11.5"
  }
 },
 "nbformat": 4,
 "nbformat_minor": 5
}
